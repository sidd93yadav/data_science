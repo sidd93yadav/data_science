{
 "cells": [
  {
   "cell_type": "code",
   "execution_count": 1,
   "id": "671afa38-669b-4c8d-ba99-5fcac12385f2",
   "metadata": {},
   "outputs": [
    {
     "name": "stdout",
     "output_type": "stream",
     "text": [
      "Requirement already satisfied: numpy in c:\\anaconda\\lib\\site-packages (2.1.3)\n",
      "Note: you may need to restart the kernel to use updated packages.\n"
     ]
    }
   ],
   "source": [
    "pip install numpy\n"
   ]
  },
  {
   "cell_type": "code",
   "execution_count": 3,
   "id": "c79f1b56-2351-4fb8-bc60-eb326360e739",
   "metadata": {},
   "outputs": [
    {
     "name": "stdout",
     "output_type": "stream",
     "text": [
      "[ 1  2  3  4  5  6  7  8  9 10 11 12 13 14 15 16 17 18 19 20]\n"
     ]
    }
   ],
   "source": [
    "import numpy as np\n",
    "\n",
    "arr = np.array([1,2,3,4,5,6,7,8,9,10,11,12,13,14,15,16,17,18,19,20])\n",
    "print(arr)\n"
   ]
  },
  {
   "cell_type": "code",
   "execution_count": 5,
   "id": "d635538e-5787-4f82-8331-bbf4504338d4",
   "metadata": {},
   "outputs": [
    {
     "name": "stdout",
     "output_type": "stream",
     "text": [
      "Sum:  210\n",
      "Mean:  10.5\n",
      "Median:  10.5\n",
      "Standard Devistion:  5.766281297335398\n"
     ]
    }
   ],
   "source": [
    "#a\n",
    "sum_ =np.sum(arr)\n",
    "print(\"Sum: \",sum_)\n",
    "mean_ = np.mean(arr)\n",
    "print(\"Mean: \",mean_)\n",
    "median_ = np.median(arr)\n",
    "print(\"Median: \",median_)\n",
    "std_dev = np.std(arr)\n",
    "print(\"Standard Devistion: \",std_dev)"
   ]
  },
  {
   "cell_type": "code",
   "execution_count": 10,
   "id": "97159e50-20e3-4ef8-a4c6-74df24d11579",
   "metadata": {},
   "outputs": [
    {
     "name": "stdout",
     "output_type": "stream",
     "text": [
      "[10 11 12 13 14 15 16 17 18 19 20]\n"
     ]
    }
   ],
   "source": [
    "# for i in range(0,20):\n",
    "#     if i>9:\n",
    "#         print(arr[i])\n",
    "five_up = (arr >= 10)\n",
    "print(arr[five_up])\n",
    "        "
   ]
  },
  {
   "cell_type": "code",
   "execution_count": 16,
   "id": "3ba37c1b-ae9e-4862-aa54-b950cc5cc5e7",
   "metadata": {},
   "outputs": [
    {
     "name": "stdout",
     "output_type": "stream",
     "text": [
      "arr_2d:\n",
      "  [[ 1  2  3  4]\n",
      " [ 5  6  7  8]\n",
      " [ 9 10 11 12]\n",
      " [13 14 15 16]]\n",
      "arr_2d trans:\n",
      "  [[ 1  5  9 13]\n",
      " [ 2  6 10 14]\n",
      " [ 3  7 11 15]\n",
      " [ 4  8 12 16]]\n",
      "row_sum:  [10 26 42 58]\n",
      "column_sum:  [28 32 36 40]\n"
     ]
    }
   ],
   "source": [
    "#2\n",
    "arr_2d = np.array([[1,2,3,4],[5,6,7,8],[9,10,11,12],[13,14,15,16]])\n",
    "print(\"arr_2d:\\n \",arr_2d)\n",
    "trans_=arr_2d.transpose()\n",
    "print(\"arr_2d trans:\\n \",trans_)\n",
    "row_sum =np.sum(arr_2d,axis=1)\n",
    "print(\"row_sum: \",row_sum)\n",
    "column_sum =np.sum(arr_2d,axis=0)\n",
    "print(\"column_sum: \",column_sum)"
   ]
  },
  {
   "cell_type": "code",
   "execution_count": 21,
   "id": "2ce739be-319e-4436-b741-40ad8192322d",
   "metadata": {},
   "outputs": [
    {
     "name": "stdout",
     "output_type": "stream",
     "text": [
      "[[1 2 3]\n",
      " [4 5 6]\n",
      " [6 8 9]]\n",
      "[[12 13 16]\n",
      " [19 20 15]\n",
      " [14  5  8]]\n",
      "add: [[13 15 19]\n",
      " [23 25 21]\n",
      " [20 13 17]]\n",
      "subtract: [[-11 -11 -13]\n",
      " [-15 -15  -9]\n",
      " [ -8   3   1]]\n",
      "multiply: [[ 12  26  48]\n",
      " [ 76 100  90]\n",
      " [ 84  40  72]]\n",
      "Dot ptoduct:  [[ 92  68  70]\n",
      " [227 182 187]\n",
      " [350 283 288]]\n"
     ]
    }
   ],
   "source": [
    "arr_2d_a = np.array([[1,2,3],[4,5,6],[6,8,9]])\n",
    "arr_2d_b =np.array( [[12,13,16],[19,20,15],[14,5,8]])\n",
    "print(arr_2d_a)\n",
    "print(arr_2d_b)\n",
    "add = np.add(arr_2d_a,arr_2d_b)\n",
    "print(\"add:\",add)\n",
    "sub =np.subtract(arr_2d_a,arr_2d_b)\n",
    "print(\"subtract:\",sub)\n",
    "mul =np.multiply(arr_2d_a,arr_2d_b)\n",
    "print(\"multiply:\",mul)\n",
    "\n",
    "# Dot product\n",
    "dot_product=np.dot(arr_2d_a,arr_2d_b)\n",
    "print(\"Dot ptoduct: \",dot_product)\n"
   ]
  },
  {
   "cell_type": "code",
   "execution_count": 28,
   "id": "d471a601-85e5-429e-a36e-fa985a3bcd12",
   "metadata": {},
   "outputs": [
    {
     "name": "stdout",
     "output_type": "stream",
     "text": [
      "[ 1  2  3  4  5  6  7  8  9 10 11 12]\n",
      "[[ 1  2  3  4]\n",
      " [ 5  6  7  8]\n",
      " [ 9 10 11 12]]\n",
      "Sliced array:\n",
      " [[3 4]\n",
      " [7 8]]\n"
     ]
    }
   ],
   "source": [
    "arr = np.array([1,2,3,4,5,6,7,8,9,10,11,12])\n",
    "print(arr)\n",
    "arr_1=arr.reshape(3,4)\n",
    "print(arr_1)\n",
    "sliced = arr_1[0:2, -2:]\n",
    "print(\"Sliced array:\\n\", sliced)\n"
   ]
  },
  {
   "cell_type": "code",
   "execution_count": null,
   "id": "017cfc8c-1d29-483c-9587-93286ca0d2d3",
   "metadata": {},
   "outputs": [],
   "source": [
    "\n"
   ]
  }
 ],
 "metadata": {
  "kernelspec": {
   "display_name": "Python [conda env:base] *",
   "language": "python",
   "name": "conda-base-py"
  },
  "language_info": {
   "codemirror_mode": {
    "name": "ipython",
    "version": 3
   },
   "file_extension": ".py",
   "mimetype": "text/x-python",
   "name": "python",
   "nbconvert_exporter": "python",
   "pygments_lexer": "ipython3",
   "version": "3.13.5"
  }
 },
 "nbformat": 4,
 "nbformat_minor": 5
}
